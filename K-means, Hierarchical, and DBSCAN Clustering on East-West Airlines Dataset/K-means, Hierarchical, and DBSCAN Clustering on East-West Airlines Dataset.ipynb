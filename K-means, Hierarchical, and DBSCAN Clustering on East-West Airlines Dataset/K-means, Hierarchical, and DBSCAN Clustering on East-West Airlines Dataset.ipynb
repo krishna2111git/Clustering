{
 "cells": [
  {
   "cell_type": "code",
   "execution_count": 1,
   "id": "d29fb038",
   "metadata": {},
   "outputs": [],
   "source": [
    "#imports cell\n",
    "from sklearn.cluster import KMeans\n",
    "from sklearn.metrics import silhouette_score\n",
    "from sklearn.decomposition import PCA\n",
    "\n",
    "\n",
    "import warnings\n",
    "warnings.filterwarnings('ignore')"
   ]
  },
  {
   "cell_type": "code",
   "execution_count": 2,
   "id": "b1a17a37",
   "metadata": {},
   "outputs": [],
   "source": [
    "import scipy.cluster.hierarchy as sch\n"
   ]
  },
  {
   "cell_type": "code",
   "execution_count": 3,
   "id": "1e6f29df",
   "metadata": {},
   "outputs": [],
   "source": [
    "from sklearn.cluster import AgglomerativeClustering "
   ]
  },
  {
   "cell_type": "code",
   "execution_count": 4,
   "id": "020e378d",
   "metadata": {},
   "outputs": [],
   "source": [
    "from sklearn.cluster import DBSCAN"
   ]
  },
  {
   "cell_type": "markdown",
   "id": "a10e6fcc",
   "metadata": {},
   "source": [
    "# Reading Data from excel file"
   ]
  },
  {
   "cell_type": "code",
   "execution_count": 5,
   "id": "9ed451c8",
   "metadata": {},
   "outputs": [
    {
     "data": {
      "application/javascript": [
       "\n",
       "        if (window._pyforest_update_imports_cell) { window._pyforest_update_imports_cell('import pandas as pd'); }\n",
       "    "
      ],
      "text/plain": [
       "<IPython.core.display.Javascript object>"
      ]
     },
     "metadata": {},
     "output_type": "display_data"
    },
    {
     "data": {
      "text/html": [
       "<div>\n",
       "<style scoped>\n",
       "    .dataframe tbody tr th:only-of-type {\n",
       "        vertical-align: middle;\n",
       "    }\n",
       "\n",
       "    .dataframe tbody tr th {\n",
       "        vertical-align: top;\n",
       "    }\n",
       "\n",
       "    .dataframe thead th {\n",
       "        text-align: right;\n",
       "    }\n",
       "</style>\n",
       "<table border=\"1\" class=\"dataframe\">\n",
       "  <thead>\n",
       "    <tr style=\"text-align: right;\">\n",
       "      <th></th>\n",
       "      <th>Balance</th>\n",
       "      <th>Qual_miles</th>\n",
       "      <th>cc1_miles</th>\n",
       "      <th>cc2_miles</th>\n",
       "      <th>cc3_miles</th>\n",
       "      <th>Bonus_miles</th>\n",
       "      <th>Bonus_trans</th>\n",
       "      <th>Flight_miles_12mo</th>\n",
       "      <th>Flight_trans_12</th>\n",
       "      <th>Days_since_enroll</th>\n",
       "      <th>Award?</th>\n",
       "    </tr>\n",
       "  </thead>\n",
       "  <tbody>\n",
       "    <tr>\n",
       "      <th>0</th>\n",
       "      <td>28143</td>\n",
       "      <td>0</td>\n",
       "      <td>1</td>\n",
       "      <td>1</td>\n",
       "      <td>1</td>\n",
       "      <td>174</td>\n",
       "      <td>1</td>\n",
       "      <td>0</td>\n",
       "      <td>0</td>\n",
       "      <td>7000</td>\n",
       "      <td>0</td>\n",
       "    </tr>\n",
       "    <tr>\n",
       "      <th>1</th>\n",
       "      <td>19244</td>\n",
       "      <td>0</td>\n",
       "      <td>1</td>\n",
       "      <td>1</td>\n",
       "      <td>1</td>\n",
       "      <td>215</td>\n",
       "      <td>2</td>\n",
       "      <td>0</td>\n",
       "      <td>0</td>\n",
       "      <td>6968</td>\n",
       "      <td>0</td>\n",
       "    </tr>\n",
       "    <tr>\n",
       "      <th>2</th>\n",
       "      <td>41354</td>\n",
       "      <td>0</td>\n",
       "      <td>1</td>\n",
       "      <td>1</td>\n",
       "      <td>1</td>\n",
       "      <td>4123</td>\n",
       "      <td>4</td>\n",
       "      <td>0</td>\n",
       "      <td>0</td>\n",
       "      <td>7034</td>\n",
       "      <td>0</td>\n",
       "    </tr>\n",
       "    <tr>\n",
       "      <th>3</th>\n",
       "      <td>14776</td>\n",
       "      <td>0</td>\n",
       "      <td>1</td>\n",
       "      <td>1</td>\n",
       "      <td>1</td>\n",
       "      <td>500</td>\n",
       "      <td>1</td>\n",
       "      <td>0</td>\n",
       "      <td>0</td>\n",
       "      <td>6952</td>\n",
       "      <td>0</td>\n",
       "    </tr>\n",
       "    <tr>\n",
       "      <th>4</th>\n",
       "      <td>97752</td>\n",
       "      <td>0</td>\n",
       "      <td>4</td>\n",
       "      <td>1</td>\n",
       "      <td>1</td>\n",
       "      <td>43300</td>\n",
       "      <td>26</td>\n",
       "      <td>2077</td>\n",
       "      <td>4</td>\n",
       "      <td>6935</td>\n",
       "      <td>1</td>\n",
       "    </tr>\n",
       "  </tbody>\n",
       "</table>\n",
       "</div>"
      ],
      "text/plain": [
       "   Balance  Qual_miles  cc1_miles  cc2_miles  cc3_miles  Bonus_miles  \\\n",
       "0    28143           0          1          1          1          174   \n",
       "1    19244           0          1          1          1          215   \n",
       "2    41354           0          1          1          1         4123   \n",
       "3    14776           0          1          1          1          500   \n",
       "4    97752           0          4          1          1        43300   \n",
       "\n",
       "   Bonus_trans  Flight_miles_12mo  Flight_trans_12  Days_since_enroll  Award?  \n",
       "0            1                  0                0               7000       0  \n",
       "1            2                  0                0               6968       0  \n",
       "2            4                  0                0               7034       0  \n",
       "3            1                  0                0               6952       0  \n",
       "4           26               2077                4               6935       1  "
      ]
     },
     "execution_count": 5,
     "metadata": {},
     "output_type": "execute_result"
    }
   ],
   "source": [
    "frefly = pd.read_excel('EastWestAirlines.xlsx', sheet_name='data', usecols=\"B:L\")\n",
    "frefly.head()"
   ]
  },
  {
   "cell_type": "code",
   "execution_count": 6,
   "id": "b3936e91",
   "metadata": {},
   "outputs": [
    {
     "name": "stdout",
     "output_type": "stream",
     "text": [
      "<class 'pandas.core.frame.DataFrame'>\n",
      "RangeIndex: 3999 entries, 0 to 3998\n",
      "Data columns (total 11 columns):\n",
      " #   Column             Non-Null Count  Dtype\n",
      "---  ------             --------------  -----\n",
      " 0   Balance            3999 non-null   int64\n",
      " 1   Qual_miles         3999 non-null   int64\n",
      " 2   cc1_miles          3999 non-null   int64\n",
      " 3   cc2_miles          3999 non-null   int64\n",
      " 4   cc3_miles          3999 non-null   int64\n",
      " 5   Bonus_miles        3999 non-null   int64\n",
      " 6   Bonus_trans        3999 non-null   int64\n",
      " 7   Flight_miles_12mo  3999 non-null   int64\n",
      " 8   Flight_trans_12    3999 non-null   int64\n",
      " 9   Days_since_enroll  3999 non-null   int64\n",
      " 10  Award?             3999 non-null   int64\n",
      "dtypes: int64(11)\n",
      "memory usage: 343.8 KB\n"
     ]
    }
   ],
   "source": [
    "frefly.info()"
   ]
  },
  {
   "cell_type": "code",
   "execution_count": 7,
   "id": "a3ad35b4",
   "metadata": {},
   "outputs": [
    {
     "data": {
      "text/html": [
       "<div>\n",
       "<style scoped>\n",
       "    .dataframe tbody tr th:only-of-type {\n",
       "        vertical-align: middle;\n",
       "    }\n",
       "\n",
       "    .dataframe tbody tr th {\n",
       "        vertical-align: top;\n",
       "    }\n",
       "\n",
       "    .dataframe thead th {\n",
       "        text-align: right;\n",
       "    }\n",
       "</style>\n",
       "<table border=\"1\" class=\"dataframe\">\n",
       "  <thead>\n",
       "    <tr style=\"text-align: right;\">\n",
       "      <th></th>\n",
       "      <th>Balance</th>\n",
       "      <th>Qual_miles</th>\n",
       "      <th>cc1_miles</th>\n",
       "      <th>cc2_miles</th>\n",
       "      <th>cc3_miles</th>\n",
       "      <th>Bonus_miles</th>\n",
       "      <th>Bonus_trans</th>\n",
       "      <th>Flight_miles_12mo</th>\n",
       "      <th>Flight_trans_12</th>\n",
       "      <th>Days_since_enroll</th>\n",
       "      <th>Award?</th>\n",
       "    </tr>\n",
       "  </thead>\n",
       "  <tbody>\n",
       "    <tr>\n",
       "      <th>count</th>\n",
       "      <td>3.999000e+03</td>\n",
       "      <td>3999.000000</td>\n",
       "      <td>3999.000000</td>\n",
       "      <td>3999.000000</td>\n",
       "      <td>3999.000000</td>\n",
       "      <td>3999.000000</td>\n",
       "      <td>3999.00000</td>\n",
       "      <td>3999.000000</td>\n",
       "      <td>3999.000000</td>\n",
       "      <td>3999.00000</td>\n",
       "      <td>3999.000000</td>\n",
       "    </tr>\n",
       "    <tr>\n",
       "      <th>mean</th>\n",
       "      <td>7.360133e+04</td>\n",
       "      <td>144.114529</td>\n",
       "      <td>2.059515</td>\n",
       "      <td>1.014504</td>\n",
       "      <td>1.012253</td>\n",
       "      <td>17144.846212</td>\n",
       "      <td>11.60190</td>\n",
       "      <td>460.055764</td>\n",
       "      <td>1.373593</td>\n",
       "      <td>4118.55939</td>\n",
       "      <td>0.370343</td>\n",
       "    </tr>\n",
       "    <tr>\n",
       "      <th>std</th>\n",
       "      <td>1.007757e+05</td>\n",
       "      <td>773.663804</td>\n",
       "      <td>1.376919</td>\n",
       "      <td>0.147650</td>\n",
       "      <td>0.195241</td>\n",
       "      <td>24150.967826</td>\n",
       "      <td>9.60381</td>\n",
       "      <td>1400.209171</td>\n",
       "      <td>3.793172</td>\n",
       "      <td>2065.13454</td>\n",
       "      <td>0.482957</td>\n",
       "    </tr>\n",
       "    <tr>\n",
       "      <th>min</th>\n",
       "      <td>0.000000e+00</td>\n",
       "      <td>0.000000</td>\n",
       "      <td>1.000000</td>\n",
       "      <td>1.000000</td>\n",
       "      <td>1.000000</td>\n",
       "      <td>0.000000</td>\n",
       "      <td>0.00000</td>\n",
       "      <td>0.000000</td>\n",
       "      <td>0.000000</td>\n",
       "      <td>2.00000</td>\n",
       "      <td>0.000000</td>\n",
       "    </tr>\n",
       "    <tr>\n",
       "      <th>25%</th>\n",
       "      <td>1.852750e+04</td>\n",
       "      <td>0.000000</td>\n",
       "      <td>1.000000</td>\n",
       "      <td>1.000000</td>\n",
       "      <td>1.000000</td>\n",
       "      <td>1250.000000</td>\n",
       "      <td>3.00000</td>\n",
       "      <td>0.000000</td>\n",
       "      <td>0.000000</td>\n",
       "      <td>2330.00000</td>\n",
       "      <td>0.000000</td>\n",
       "    </tr>\n",
       "    <tr>\n",
       "      <th>50%</th>\n",
       "      <td>4.309700e+04</td>\n",
       "      <td>0.000000</td>\n",
       "      <td>1.000000</td>\n",
       "      <td>1.000000</td>\n",
       "      <td>1.000000</td>\n",
       "      <td>7171.000000</td>\n",
       "      <td>12.00000</td>\n",
       "      <td>0.000000</td>\n",
       "      <td>0.000000</td>\n",
       "      <td>4096.00000</td>\n",
       "      <td>0.000000</td>\n",
       "    </tr>\n",
       "    <tr>\n",
       "      <th>75%</th>\n",
       "      <td>9.240400e+04</td>\n",
       "      <td>0.000000</td>\n",
       "      <td>3.000000</td>\n",
       "      <td>1.000000</td>\n",
       "      <td>1.000000</td>\n",
       "      <td>23800.500000</td>\n",
       "      <td>17.00000</td>\n",
       "      <td>311.000000</td>\n",
       "      <td>1.000000</td>\n",
       "      <td>5790.50000</td>\n",
       "      <td>1.000000</td>\n",
       "    </tr>\n",
       "    <tr>\n",
       "      <th>max</th>\n",
       "      <td>1.704838e+06</td>\n",
       "      <td>11148.000000</td>\n",
       "      <td>5.000000</td>\n",
       "      <td>3.000000</td>\n",
       "      <td>5.000000</td>\n",
       "      <td>263685.000000</td>\n",
       "      <td>86.00000</td>\n",
       "      <td>30817.000000</td>\n",
       "      <td>53.000000</td>\n",
       "      <td>8296.00000</td>\n",
       "      <td>1.000000</td>\n",
       "    </tr>\n",
       "  </tbody>\n",
       "</table>\n",
       "</div>"
      ],
      "text/plain": [
       "            Balance    Qual_miles    cc1_miles    cc2_miles    cc3_miles  \\\n",
       "count  3.999000e+03   3999.000000  3999.000000  3999.000000  3999.000000   \n",
       "mean   7.360133e+04    144.114529     2.059515     1.014504     1.012253   \n",
       "std    1.007757e+05    773.663804     1.376919     0.147650     0.195241   \n",
       "min    0.000000e+00      0.000000     1.000000     1.000000     1.000000   \n",
       "25%    1.852750e+04      0.000000     1.000000     1.000000     1.000000   \n",
       "50%    4.309700e+04      0.000000     1.000000     1.000000     1.000000   \n",
       "75%    9.240400e+04      0.000000     3.000000     1.000000     1.000000   \n",
       "max    1.704838e+06  11148.000000     5.000000     3.000000     5.000000   \n",
       "\n",
       "         Bonus_miles  Bonus_trans  Flight_miles_12mo  Flight_trans_12  \\\n",
       "count    3999.000000   3999.00000        3999.000000      3999.000000   \n",
       "mean    17144.846212     11.60190         460.055764         1.373593   \n",
       "std     24150.967826      9.60381        1400.209171         3.793172   \n",
       "min         0.000000      0.00000           0.000000         0.000000   \n",
       "25%      1250.000000      3.00000           0.000000         0.000000   \n",
       "50%      7171.000000     12.00000           0.000000         0.000000   \n",
       "75%     23800.500000     17.00000         311.000000         1.000000   \n",
       "max    263685.000000     86.00000       30817.000000        53.000000   \n",
       "\n",
       "       Days_since_enroll       Award?  \n",
       "count         3999.00000  3999.000000  \n",
       "mean          4118.55939     0.370343  \n",
       "std           2065.13454     0.482957  \n",
       "min              2.00000     0.000000  \n",
       "25%           2330.00000     0.000000  \n",
       "50%           4096.00000     0.000000  \n",
       "75%           5790.50000     1.000000  \n",
       "max           8296.00000     1.000000  "
      ]
     },
     "execution_count": 7,
     "metadata": {},
     "output_type": "execute_result"
    }
   ],
   "source": [
    "frefly.describe()"
   ]
  },
  {
   "cell_type": "markdown",
   "id": "15c091c0",
   "metadata": {},
   "source": [
    "# Scaling the data by min max normalization"
   ]
  },
  {
   "cell_type": "code",
   "execution_count": 8,
   "id": "03ea13e3",
   "metadata": {},
   "outputs": [],
   "source": [
    "from sklearn.preprocessing import MinMaxScaler\n",
    "scaler = MinMaxScaler()\n",
    "scaled_data = scaler.fit_transform(frefly)\n"
   ]
  },
  {
   "cell_type": "markdown",
   "id": "504e3598",
   "metadata": {},
   "source": [
    "# K-Means Clustering"
   ]
  },
  {
   "cell_type": "code",
   "execution_count": 9,
   "id": "8be0f913",
   "metadata": {},
   "outputs": [],
   "source": [
    "#Applying elbow method to find the optimal number of clusters\n",
    "wcss=[]\n",
    "for k in range (2,20):\n",
    "    kmeans = KMeans(n_clusters=k , random_state=42)\n",
    "    kmeans.fit(scaled_data)\n",
    "    wcss.append(kmeans.inertia_)"
   ]
  },
  {
   "cell_type": "code",
   "execution_count": 10,
   "id": "62eeb2b4",
   "metadata": {},
   "outputs": [
    {
     "data": {
      "application/javascript": [
       "\n",
       "        if (window._pyforest_update_imports_cell) { window._pyforest_update_imports_cell('import matplotlib.pyplot as plt\\nimport pandas as pd'); }\n",
       "    "
      ],
      "text/plain": [
       "<IPython.core.display.Javascript object>"
      ]
     },
     "metadata": {},
     "output_type": "display_data"
    },
    {
     "data": {
      "text/plain": [
       "[<matplotlib.lines.Line2D at 0x20170b52710>]"
      ]
     },
     "execution_count": 10,
     "metadata": {},
     "output_type": "execute_result"
    },
    {
     "data": {
      "image/png": "[encoded data removed]",
      "text/plain": [
       "<Figure size 640x480 with 1 Axes>"
      ]
     },
     "metadata": {},
     "output_type": "display_data"
    }
   ],
   "source": [
    "#graph of WCSS vs no. of clusters\n",
    "plt.plot(list(range(2,20)), wcss)"
   ]
  },
  {
   "cell_type": "markdown",
   "id": "ac1f27b3",
   "metadata": {},
   "source": [
    "### 5,6,7,8,9,10 are apparently on the elbow"
   ]
  },
  {
   "cell_type": "code",
   "execution_count": 11,
   "id": "d770b4c0",
   "metadata": {},
   "outputs": [
    {
     "name": "stdout",
     "output_type": "stream",
     "text": [
      "Clusters= 2 silhouette score: 0.535930510919477\n",
      "Clusters= 3 silhouette score: 0.4646127065079619\n",
      "Clusters= 4 silhouette score: 0.47483765255961\n",
      "Clusters= 5 silhouette score: 0.4430672072796034\n",
      "Clusters= 6 silhouette score: 0.38854094359163266\n",
      "Clusters= 7 silhouette score: 0.3909601011818369\n",
      "Clusters= 8 silhouette score: 0.3809790022580984\n",
      "Clusters= 9 silhouette score: 0.3771799963241372\n",
      "Clusters= 10 silhouette score: 0.3448517148143451\n"
     ]
    }
   ],
   "source": [
    "\n",
    "for k in range (2,11):\n",
    "    kmeans = KMeans(n_clusters=k, random_state=42 )\n",
    "    k_pred = kmeans.fit_predict(scaled_data)\n",
    "    print('Clusters=', k, 'silhouette score:', silhouette_score(X=scaled_data, labels=k_pred, metric='euclidean'))"
   ]
  },
  {
   "cell_type": "markdown",
   "id": "88ae37cd",
   "metadata": {},
   "source": [
    "## The best silhouette_score among values at elbow is for 4 clusters so we choose 4 clusters"
   ]
  },
  {
   "cell_type": "code",
   "execution_count": 12,
   "id": "2addee5e",
   "metadata": {},
   "outputs": [
    {
     "data": {
      "application/javascript": [
       "\n",
       "        if (window._pyforest_update_imports_cell) { window._pyforest_update_imports_cell('import matplotlib.pyplot as plt\\nimport pandas as pd'); }\n",
       "    "
      ],
      "text/plain": [
       "<IPython.core.display.Javascript object>"
      ]
     },
     "metadata": {},
     "output_type": "display_data"
    },
    {
     "name": "stdout",
     "output_type": "stream",
     "text": [
      "1    1897\n",
      "2     808\n",
      "0     673\n",
      "3     621\n",
      "Name: count, dtype: int64\n",
      "Silhouette Score :  0.47483765255961\n"
     ]
    }
   ],
   "source": [
    "#Predicting 4 clusters\n",
    "kmeans = KMeans(n_clusters=4, random_state =42)\n",
    "k_pred_4 = kmeans.fit_predict(scaled_data)\n",
    "print(pd.Series(k_pred_4).value_counts())\n",
    "print('Silhouette Score : ' ,silhouette_score(X=scaled_data, labels=k_pred_4 ))"
   ]
  },
  {
   "cell_type": "markdown",
   "id": "e367096c",
   "metadata": {},
   "source": [
    "## For plotting the clusters lets create 2 principal components out of out 10 dimensional data"
   ]
  },
  {
   "cell_type": "markdown",
   "id": "593ac900",
   "metadata": {},
   "source": [
    "# Performing PCA on the scaled data and extracting 2 most significants components"
   ]
  },
  {
   "cell_type": "code",
   "execution_count": 13,
   "id": "2d732f5e",
   "metadata": {},
   "outputs": [],
   "source": [
    "#Principal Component Analysis on the data to convert the data to 2 dimensions\n",
    "pca = PCA(n_components=2)\n",
    "two_dim_data = pca.fit_transform(scaled_data)"
   ]
  },
  {
   "cell_type": "markdown",
   "id": "f9a3f1f2",
   "metadata": {},
   "source": [
    "## By plotting the scatter plot of 2 principal components we can see that the data is visibly separated in 2 clusters"
   ]
  },
  {
   "cell_type": "code",
   "execution_count": 14,
   "id": "9b82b626",
   "metadata": {},
   "outputs": [
    {
     "data": {
      "application/javascript": [
       "\n",
       "        if (window._pyforest_update_imports_cell) { window._pyforest_update_imports_cell('import matplotlib.pyplot as plt\\nimport pandas as pd'); }\n",
       "    "
      ],
      "text/plain": [
       "<IPython.core.display.Javascript object>"
      ]
     },
     "metadata": {},
     "output_type": "display_data"
    },
    {
     "data": {
      "text/plain": [
       "<matplotlib.collections.PathCollection at 0x20170ab3790>"
      ]
     },
     "execution_count": 14,
     "metadata": {},
     "output_type": "execute_result"
    },
    {
     "data": {
      "image/png": "[encoded data removed]",
      "text/plain": [
       "<Figure size 640x480 with 1 Axes>"
      ]
     },
     "metadata": {},
     "output_type": "display_data"
    }
   ],
   "source": [
    "plt.scatter(x=two_dim_data[:,0], y=two_dim_data[:,1])"
   ]
  },
  {
   "cell_type": "markdown",
   "id": "9165fae3",
   "metadata": {},
   "source": [
    "## Plotting our 4 clusters obtained from k-means"
   ]
  },
  {
   "cell_type": "code",
   "execution_count": 15,
   "id": "1973b3af",
   "metadata": {},
   "outputs": [
    {
     "data": {
      "application/javascript": [
       "\n",
       "        if (window._pyforest_update_imports_cell) { window._pyforest_update_imports_cell('import matplotlib.pyplot as plt\\nimport pandas as pd'); }\n",
       "    "
      ],
      "text/plain": [
       "<IPython.core.display.Javascript object>"
      ]
     },
     "metadata": {},
     "output_type": "display_data"
    },
    {
     "data": {
      "application/javascript": [
       "\n",
       "        if (window._pyforest_update_imports_cell) { window._pyforest_update_imports_cell('import matplotlib.pyplot as plt\\nimport pandas as pd'); }\n",
       "    "
      ],
      "text/plain": [
       "<IPython.core.display.Javascript object>"
      ]
     },
     "metadata": {},
     "output_type": "display_data"
    },
    {
     "data": {
      "image/png": "[encoded data removed]",
      "text/plain": [
       "<Figure size 640x480 with 1 Axes>"
      ]
     },
     "metadata": {},
     "output_type": "display_data"
    }
   ],
   "source": [
    "plt.scatter(x=two_dim_data[:,0], y=two_dim_data[:,1], c=k_pred_4)\n",
    "plt.title('K-means 4 clusters');"
   ]
  },
  {
   "cell_type": "markdown",
   "id": "338bfb4d",
   "metadata": {},
   "source": [
    "## Since we are getting bery high silhouette score for 2 clusters (0.535930). Also out principal components appear to be in 2 clusters lets make 2 clusters by k-means as well"
   ]
  },
  {
   "cell_type": "code",
   "execution_count": 16,
   "id": "9584ab57",
   "metadata": {},
   "outputs": [
    {
     "data": {
      "application/javascript": [
       "\n",
       "        if (window._pyforest_update_imports_cell) { window._pyforest_update_imports_cell('import matplotlib.pyplot as plt\\nimport pandas as pd'); }\n",
       "    "
      ],
      "text/plain": [
       "<IPython.core.display.Javascript object>"
      ]
     },
     "metadata": {},
     "output_type": "display_data"
    },
    {
     "name": "stdout",
     "output_type": "stream",
     "text": [
      "1    2518\n",
      "0    1481\n",
      "Name: count, dtype: int64\n",
      "Silhouette Score :  0.535930510919477\n"
     ]
    }
   ],
   "source": [
    "#Predicting 2 clusters by k-means\n",
    "kmeans = KMeans(n_clusters=2, random_state =42)\n",
    "k_pred_2 = kmeans.fit_predict(scaled_data)\n",
    "print(pd.Series(k_pred_2).value_counts())\n",
    "print('Silhouette Score : ' ,silhouette_score(X=scaled_data, labels=k_pred_2 ))"
   ]
  },
  {
   "cell_type": "markdown",
   "id": "d91d57a5",
   "metadata": {},
   "source": [
    "## Plotting the 2 clusters obtained by k-means"
   ]
  },
  {
   "cell_type": "code",
   "execution_count": 17,
   "id": "097d2f62",
   "metadata": {},
   "outputs": [
    {
     "data": {
      "application/javascript": [
       "\n",
       "        if (window._pyforest_update_imports_cell) { window._pyforest_update_imports_cell('import matplotlib.pyplot as plt\\nimport pandas as pd'); }\n",
       "    "
      ],
      "text/plain": [
       "<IPython.core.display.Javascript object>"
      ]
     },
     "metadata": {},
     "output_type": "display_data"
    },
    {
     "data": {
      "text/plain": [
       "<matplotlib.collections.PathCollection at 0x20100049a50>"
      ]
     },
     "execution_count": 17,
     "metadata": {},
     "output_type": "execute_result"
    },
    {
     "data": {
      "image/png": "[encoded data removed]",
      "text/plain": [
       "<Figure size 640x480 with 1 Axes>"
      ]
     },
     "metadata": {},
     "output_type": "display_data"
    }
   ],
   "source": [
    "plt.scatter(x=two_dim_data[:,0], y=two_dim_data[:,1], c=k_pred_2)"
   ]
  },
  {
   "cell_type": "markdown",
   "id": "72f86120",
   "metadata": {},
   "source": [
    "## Adding the 4 cluster and 2 cluster predictions of k-means to the original dataframe"
   ]
  },
  {
   "cell_type": "code",
   "execution_count": 18,
   "id": "f61c2e67",
   "metadata": {},
   "outputs": [],
   "source": [
    "frefly['k_clusters_4'] = k_pred_4"
   ]
  },
  {
   "cell_type": "code",
   "execution_count": 19,
   "id": "a435a420",
   "metadata": {},
   "outputs": [],
   "source": [
    "frefly['k_clusters_2'] = k_pred_2"
   ]
  },
  {
   "cell_type": "markdown",
   "id": "2755c5e6",
   "metadata": {},
   "source": [
    "# Agglomerative Clustering"
   ]
  },
  {
   "cell_type": "markdown",
   "id": "fddb8d67",
   "metadata": {},
   "source": [
    "# Determining optimal number of clusters based on silhouette scores by clustering with average linkage"
   ]
  },
  {
   "cell_type": "code",
   "execution_count": 20,
   "id": "f1f1c29a",
   "metadata": {},
   "outputs": [
    {
     "name": "stdout",
     "output_type": "stream",
     "text": [
      "CLUSTERS : 2 SILHOUETTE SCORE :  0.47040913679492186\n",
      "CLUSTERS : 3 SILHOUETTE SCORE :  0.39619766243707655\n",
      "CLUSTERS : 4 SILHOUETTE SCORE :  0.5286018409871408\n",
      "CLUSTERS : 5 SILHOUETTE SCORE :  0.5082555071160846\n",
      "CLUSTERS : 6 SILHOUETTE SCORE :  0.4872677894382957\n",
      "CLUSTERS : 7 SILHOUETTE SCORE :  0.43873250506611094\n",
      "CLUSTERS : 8 SILHOUETTE SCORE :  0.4087022964575043\n",
      "CLUSTERS : 9 SILHOUETTE SCORE :  0.40082699430237484\n",
      "CLUSTERS : 10 SILHOUETTE SCORE :  0.35722100020389563\n",
      "CLUSTERS : 11 SILHOUETTE SCORE :  0.3570010664251838\n",
      "CLUSTERS : 12 SILHOUETTE SCORE :  0.33739932280673074\n",
      "CLUSTERS : 13 SILHOUETTE SCORE :  0.33673673460968867\n",
      "CLUSTERS : 14 SILHOUETTE SCORE :  0.30059243135978786\n",
      "CLUSTERS : 15 SILHOUETTE SCORE :  0.34886751950530925\n",
      "CLUSTERS : 16 SILHOUETTE SCORE :  0.3363726363516659\n",
      "CLUSTERS : 17 SILHOUETTE SCORE :  0.3321953656972308\n",
      "CLUSTERS : 18 SILHOUETTE SCORE :  0.33131431408981865\n",
      "CLUSTERS : 19 SILHOUETTE SCORE :  0.4018786076320852\n"
     ]
    }
   ],
   "source": [
    "for n in range(2,20):\n",
    "    agg_clu = AgglomerativeClustering(n_clusters=n, linkage='average', metric='euclidean')\n",
    "    agg_pred = agg_clu.fit_predict(X=scaled_data)\n",
    "    sil_sco = silhouette_score(X=scaled_data, labels=agg_pred, metric='euclidean')\n",
    "    print('CLUSTERS :',n,'SILHOUETTE SCORE : ',sil_sco)"
   ]
  },
  {
   "cell_type": "markdown",
   "id": "674f2412",
   "metadata": {},
   "source": [
    "## We can see that 4 clusters gives the best value for silhouette score when clustering with average linkage"
   ]
  },
  {
   "cell_type": "code",
   "execution_count": 21,
   "id": "d38ebd8f",
   "metadata": {},
   "outputs": [
    {
     "data": {
      "application/javascript": [
       "\n",
       "        if (window._pyforest_update_imports_cell) { window._pyforest_update_imports_cell('import matplotlib.pyplot as plt\\nimport pandas as pd'); }\n",
       "    "
      ],
      "text/plain": [
       "<IPython.core.display.Javascript object>"
      ]
     },
     "metadata": {},
     "output_type": "display_data"
    },
    {
     "name": "stdout",
     "output_type": "stream",
     "text": [
      "1    2518\n",
      "0    1476\n",
      "3       4\n",
      "2       1\n",
      "Name: count, dtype: int64\n",
      "Silhouette Score :  0.5286018409871408\n"
     ]
    }
   ],
   "source": [
    "agg_clu = AgglomerativeClustering(n_clusters=4, linkage='average', metric='euclidean')\n",
    "agg_pred_4 = agg_clu.fit_predict(scaled_data)\n",
    "print(pd.Series(agg_pred_4).value_counts())\n",
    "print('Silhouette Score : ' ,silhouette_score(X=scaled_data, labels=agg_pred_4 ))"
   ]
  },
  {
   "cell_type": "markdown",
   "id": "95197923",
   "metadata": {},
   "source": [
    "## But the 4 cluster predictions do not look useful as only few points lie in 2 clusters and almost all the other points are divided in only two clusters\n",
    "## So, the agglomerative clustering technique is not suitable as the data seems to have some outliers fo which we move to DBSCAN"
   ]
  },
  {
   "cell_type": "code",
   "execution_count": 22,
   "id": "7c6ecaca",
   "metadata": {},
   "outputs": [
    {
     "data": {
      "application/javascript": [
       "\n",
       "        if (window._pyforest_update_imports_cell) { window._pyforest_update_imports_cell('import matplotlib.pyplot as plt\\nimport pandas as pd'); }\n",
       "    "
      ],
      "text/plain": [
       "<IPython.core.display.Javascript object>"
      ]
     },
     "metadata": {},
     "output_type": "display_data"
    },
    {
     "name": "stdout",
     "output_type": "stream",
     "text": [
      "1    2511\n",
      "0    1462\n",
      "4       8\n",
      "2       7\n",
      "6       6\n",
      "3       4\n",
      "5       1\n",
      "Name: count, dtype: int64\n",
      "Silhouette Score :  0.43873250506611094\n"
     ]
    }
   ],
   "source": [
    "agg_clu = AgglomerativeClustering(n_clusters=7, linkage='average', metric='euclidean')\n",
    "agg_pred_2 = agg_clu.fit_predict(scaled_data)\n",
    "print(pd.Series(agg_pred_2).value_counts())\n",
    "print('Silhouette Score : ' ,silhouette_score(X=scaled_data, labels=agg_pred_2 ))"
   ]
  },
  {
   "cell_type": "code",
   "execution_count": 23,
   "id": "4ccae60e",
   "metadata": {},
   "outputs": [
    {
     "data": {
      "application/javascript": [
       "\n",
       "        if (window._pyforest_update_imports_cell) { window._pyforest_update_imports_cell('import matplotlib.pyplot as plt\\nimport pandas as pd'); }\n",
       "    "
      ],
      "text/plain": [
       "<IPython.core.display.Javascript object>"
      ]
     },
     "metadata": {},
     "output_type": "display_data"
    },
    {
     "data": {
      "text/plain": [
       "<matplotlib.collections.PathCollection at 0x201000c8f50>"
      ]
     },
     "execution_count": 23,
     "metadata": {},
     "output_type": "execute_result"
    },
    {
     "data": {
      "image/png": "[encoded data removed]",
      "text/plain": [
       "<Figure size 640x480 with 1 Axes>"
      ]
     },
     "metadata": {},
     "output_type": "display_data"
    }
   ],
   "source": [
    "plt.scatter(x=two_dim_data[:,0], y=two_dim_data[:,1], c=agg_pred_4)"
   ]
  },
  {
   "cell_type": "code",
   "execution_count": 24,
   "id": "06a71f83",
   "metadata": {},
   "outputs": [
    {
     "data": {
      "text/html": [
       "<div>\n",
       "<style scoped>\n",
       "    .dataframe tbody tr th:only-of-type {\n",
       "        vertical-align: middle;\n",
       "    }\n",
       "\n",
       "    .dataframe tbody tr th {\n",
       "        vertical-align: top;\n",
       "    }\n",
       "\n",
       "    .dataframe thead th {\n",
       "        text-align: right;\n",
       "    }\n",
       "</style>\n",
       "<table border=\"1\" class=\"dataframe\">\n",
       "  <thead>\n",
       "    <tr style=\"text-align: right;\">\n",
       "      <th></th>\n",
       "      <th>Balance</th>\n",
       "      <th>Qual_miles</th>\n",
       "      <th>cc1_miles</th>\n",
       "      <th>cc2_miles</th>\n",
       "      <th>cc3_miles</th>\n",
       "      <th>Bonus_miles</th>\n",
       "      <th>Bonus_trans</th>\n",
       "      <th>Flight_miles_12mo</th>\n",
       "      <th>Flight_trans_12</th>\n",
       "      <th>Days_since_enroll</th>\n",
       "      <th>Award?</th>\n",
       "      <th>k_clusters_4</th>\n",
       "      <th>k_clusters_2</th>\n",
       "      <th>agg_pred_4</th>\n",
       "    </tr>\n",
       "  </thead>\n",
       "  <tbody>\n",
       "    <tr>\n",
       "      <th>0</th>\n",
       "      <td>28143</td>\n",
       "      <td>0</td>\n",
       "      <td>1</td>\n",
       "      <td>1</td>\n",
       "      <td>1</td>\n",
       "      <td>174</td>\n",
       "      <td>1</td>\n",
       "      <td>0</td>\n",
       "      <td>0</td>\n",
       "      <td>7000</td>\n",
       "      <td>0</td>\n",
       "      <td>1</td>\n",
       "      <td>1</td>\n",
       "      <td>1</td>\n",
       "    </tr>\n",
       "    <tr>\n",
       "      <th>1</th>\n",
       "      <td>19244</td>\n",
       "      <td>0</td>\n",
       "      <td>1</td>\n",
       "      <td>1</td>\n",
       "      <td>1</td>\n",
       "      <td>215</td>\n",
       "      <td>2</td>\n",
       "      <td>0</td>\n",
       "      <td>0</td>\n",
       "      <td>6968</td>\n",
       "      <td>0</td>\n",
       "      <td>1</td>\n",
       "      <td>1</td>\n",
       "      <td>1</td>\n",
       "    </tr>\n",
       "    <tr>\n",
       "      <th>2</th>\n",
       "      <td>41354</td>\n",
       "      <td>0</td>\n",
       "      <td>1</td>\n",
       "      <td>1</td>\n",
       "      <td>1</td>\n",
       "      <td>4123</td>\n",
       "      <td>4</td>\n",
       "      <td>0</td>\n",
       "      <td>0</td>\n",
       "      <td>7034</td>\n",
       "      <td>0</td>\n",
       "      <td>1</td>\n",
       "      <td>1</td>\n",
       "      <td>1</td>\n",
       "    </tr>\n",
       "    <tr>\n",
       "      <th>3</th>\n",
       "      <td>14776</td>\n",
       "      <td>0</td>\n",
       "      <td>1</td>\n",
       "      <td>1</td>\n",
       "      <td>1</td>\n",
       "      <td>500</td>\n",
       "      <td>1</td>\n",
       "      <td>0</td>\n",
       "      <td>0</td>\n",
       "      <td>6952</td>\n",
       "      <td>0</td>\n",
       "      <td>1</td>\n",
       "      <td>1</td>\n",
       "      <td>1</td>\n",
       "    </tr>\n",
       "    <tr>\n",
       "      <th>4</th>\n",
       "      <td>97752</td>\n",
       "      <td>0</td>\n",
       "      <td>4</td>\n",
       "      <td>1</td>\n",
       "      <td>1</td>\n",
       "      <td>43300</td>\n",
       "      <td>26</td>\n",
       "      <td>2077</td>\n",
       "      <td>4</td>\n",
       "      <td>6935</td>\n",
       "      <td>1</td>\n",
       "      <td>2</td>\n",
       "      <td>0</td>\n",
       "      <td>0</td>\n",
       "    </tr>\n",
       "  </tbody>\n",
       "</table>\n",
       "</div>"
      ],
      "text/plain": [
       "   Balance  Qual_miles  cc1_miles  cc2_miles  cc3_miles  Bonus_miles  \\\n",
       "0    28143           0          1          1          1          174   \n",
       "1    19244           0          1          1          1          215   \n",
       "2    41354           0          1          1          1         4123   \n",
       "3    14776           0          1          1          1          500   \n",
       "4    97752           0          4          1          1        43300   \n",
       "\n",
       "   Bonus_trans  Flight_miles_12mo  Flight_trans_12  Days_since_enroll  Award?  \\\n",
       "0            1                  0                0               7000       0   \n",
       "1            2                  0                0               6968       0   \n",
       "2            4                  0                0               7034       0   \n",
       "3            1                  0                0               6952       0   \n",
       "4           26               2077                4               6935       1   \n",
       "\n",
       "   k_clusters_4  k_clusters_2  agg_pred_4  \n",
       "0             1             1           1  \n",
       "1             1             1           1  \n",
       "2             1             1           1  \n",
       "3             1             1           1  \n",
       "4             2             0           0  "
      ]
     },
     "execution_count": 24,
     "metadata": {},
     "output_type": "execute_result"
    }
   ],
   "source": [
    "#Adding the predictions to the actual data\n",
    "frefly['agg_pred_4'] = agg_pred_4\n",
    "frefly.head()"
   ]
  },
  {
   "cell_type": "markdown",
   "id": "ceece1db",
   "metadata": {},
   "source": [
    "# DBSCAN"
   ]
  },
  {
   "cell_type": "markdown",
   "id": "169b6589",
   "metadata": {},
   "source": [
    "## Checking the silhouette scores for different combinations of eps [0.1 - 2.0] and min_samples values [5 - 20]"
   ]
  },
  {
   "cell_type": "code",
   "execution_count": 25,
   "id": "f9cd0be0",
   "metadata": {
    "scrolled": true
   },
   "outputs": [
    {
     "data": {
      "application/javascript": [
       "\n",
       "        if (window._pyforest_update_imports_cell) { window._pyforest_update_imports_cell('import numpy as np\\nimport matplotlib.pyplot as plt\\nimport pandas as pd'); }\n",
       "    "
      ],
      "text/plain": [
       "<IPython.core.display.Javascript object>"
      ]
     },
     "metadata": {},
     "output_type": "display_data"
    },
    {
     "name": "stdout",
     "output_type": "stream",
     "text": [
      "eps=0.1, min_samples=5, silhouette score=0.1581285426282123\n",
      "eps=0.1, min_samples=6, silhouette score=0.011347246365108338\n",
      "eps=0.1, min_samples=7, silhouette score=0.030624898280699277\n",
      "eps=0.1, min_samples=8, silhouette score=0.13995074857437487\n",
      "eps=0.1, min_samples=9, silhouette score=0.12840976867479503\n",
      "eps=0.1, min_samples=10, silhouette score=0.1190588311652761\n",
      "eps=0.1, min_samples=11, silhouette score=0.1119262111920455\n",
      "eps=0.1, min_samples=12, silhouette score=0.11541559661059578\n",
      "eps=0.1, min_samples=13, silhouette score=0.08746147443796996\n",
      "eps=0.1, min_samples=14, silhouette score=0.08203807873992595\n",
      "eps=0.1, min_samples=15, silhouette score=0.0764361789588964\n",
      "eps=0.1, min_samples=16, silhouette score=0.07206739301101468\n",
      "eps=0.1, min_samples=17, silhouette score=0.07009816625785907\n",
      "eps=0.1, min_samples=18, silhouette score=0.06568124573987397\n",
      "eps=0.1, min_samples=19, silhouette score=0.05856379978683475\n",
      "eps=0.1, min_samples=20, silhouette score=0.07076865999215115\n",
      "eps=0.2, min_samples=5, silhouette score=0.22038966267435867\n",
      "eps=0.2, min_samples=6, silhouette score=0.21890332762342912\n",
      "eps=0.2, min_samples=7, silhouette score=0.21776934333614045\n",
      "eps=0.2, min_samples=8, silhouette score=0.21696001162178596\n",
      "eps=0.2, min_samples=9, silhouette score=0.21520457633830528\n",
      "eps=0.2, min_samples=10, silhouette score=0.21486415449176807\n",
      "eps=0.2, min_samples=11, silhouette score=0.21257336714010705\n",
      "eps=0.2, min_samples=12, silhouette score=0.21230627176776276\n",
      "eps=0.2, min_samples=13, silhouette score=0.21215709141729838\n",
      "eps=0.2, min_samples=14, silhouette score=0.21155940616877938\n",
      "eps=0.2, min_samples=15, silhouette score=0.21134679159447148\n",
      "eps=0.2, min_samples=16, silhouette score=0.2109229673577339\n",
      "eps=0.2, min_samples=17, silhouette score=0.21083929566060708\n",
      "eps=0.2, min_samples=18, silhouette score=0.21006395507326336\n",
      "eps=0.2, min_samples=19, silhouette score=0.209951715102346\n",
      "eps=0.2, min_samples=20, silhouette score=0.2099113220067923\n",
      "eps=0.30000000000000004, min_samples=5, silhouette score=0.22946573625816827\n",
      "eps=0.30000000000000004, min_samples=6, silhouette score=0.31828846369399605\n",
      "eps=0.30000000000000004, min_samples=7, silhouette score=0.31864926197830556\n",
      "eps=0.30000000000000004, min_samples=8, silhouette score=0.32169564500248915\n",
      "eps=0.30000000000000004, min_samples=9, silhouette score=0.32169564500248915\n",
      "eps=0.30000000000000004, min_samples=10, silhouette score=0.3214758047084957\n",
      "eps=0.30000000000000004, min_samples=11, silhouette score=0.3211000233330662\n",
      "eps=0.30000000000000004, min_samples=12, silhouette score=0.32045426132254085\n",
      "eps=0.30000000000000004, min_samples=13, silhouette score=0.3176873326084167\n",
      "eps=0.30000000000000004, min_samples=14, silhouette score=0.3170020545306205\n",
      "eps=0.30000000000000004, min_samples=15, silhouette score=0.3159862370735941\n",
      "eps=0.30000000000000004, min_samples=16, silhouette score=0.5131575646161529\n",
      "eps=0.30000000000000004, min_samples=17, silhouette score=0.5131575646161529\n",
      "eps=0.30000000000000004, min_samples=18, silhouette score=0.5126266460607207\n",
      "eps=0.30000000000000004, min_samples=19, silhouette score=0.5125874357302994\n",
      "eps=0.30000000000000004, min_samples=20, silhouette score=0.5122543679944741\n",
      "eps=0.4, min_samples=5, silhouette score=0.24739158592293595\n",
      "eps=0.4, min_samples=6, silhouette score=0.24668607356741581\n",
      "eps=0.4, min_samples=7, silhouette score=0.24675916015937197\n",
      "eps=0.4, min_samples=8, silhouette score=0.32560610286836067\n",
      "eps=0.4, min_samples=9, silhouette score=0.32560610286836067\n",
      "eps=0.4, min_samples=10, silhouette score=0.3306658191035354\n",
      "eps=0.4, min_samples=11, silhouette score=0.3306658191035354\n",
      "eps=0.4, min_samples=12, silhouette score=0.3302031758208956\n",
      "eps=0.4, min_samples=13, silhouette score=0.3302031758208956\n",
      "eps=0.4, min_samples=14, silhouette score=0.32916212364848024\n",
      "eps=0.4, min_samples=15, silhouette score=0.32853889171534395\n",
      "eps=0.4, min_samples=16, silhouette score=0.32853889171534395\n",
      "eps=0.4, min_samples=17, silhouette score=0.5260959988220061\n",
      "eps=0.4, min_samples=18, silhouette score=0.5260959988220061\n",
      "eps=0.4, min_samples=19, silhouette score=0.5260959988220061\n",
      "eps=0.4, min_samples=20, silhouette score=0.5254203131167323\n",
      "eps=0.5, min_samples=5, silhouette score=0.24338879565909566\n",
      "eps=0.5, min_samples=6, silhouette score=0.2423917570167822\n",
      "eps=0.5, min_samples=7, silhouette score=0.2464733807752432\n",
      "eps=0.5, min_samples=8, silhouette score=0.2464733807752432\n",
      "eps=0.5, min_samples=9, silhouette score=0.2464733807752432\n",
      "eps=0.5, min_samples=10, silhouette score=0.33403723077785397\n",
      "eps=0.5, min_samples=11, silhouette score=0.33403723077785397\n",
      "eps=0.5, min_samples=12, silhouette score=0.33403723077785397\n",
      "eps=0.5, min_samples=13, silhouette score=0.3335964691219022\n",
      "eps=0.5, min_samples=14, silhouette score=0.3335964691219022\n",
      "eps=0.5, min_samples=15, silhouette score=0.3335964691219022\n",
      "eps=0.5, min_samples=16, silhouette score=0.3335964691219022\n",
      "eps=0.5, min_samples=17, silhouette score=0.5227799183899551\n",
      "eps=0.5, min_samples=18, silhouette score=0.5227799183899551\n",
      "eps=0.5, min_samples=19, silhouette score=0.5227799183899551\n",
      "eps=0.5, min_samples=20, silhouette score=0.5227799183899551\n",
      "eps=0.6, min_samples=5, silhouette score=0.5355366159514389\n",
      "eps=0.6, min_samples=6, silhouette score=0.5351606977312267\n",
      "eps=0.6, min_samples=7, silhouette score=0.5351606977312267\n",
      "eps=0.6, min_samples=8, silhouette score=0.5347536996491317\n",
      "eps=0.6, min_samples=9, silhouette score=0.5347536996491317\n",
      "eps=0.6, min_samples=10, silhouette score=0.5347536996491317\n",
      "eps=0.6, min_samples=11, silhouette score=0.5347536996491317\n",
      "eps=0.6, min_samples=12, silhouette score=0.5347076976537932\n",
      "eps=0.6, min_samples=13, silhouette score=0.5347076976537932\n",
      "eps=0.6, min_samples=14, silhouette score=0.5347076976537932\n",
      "eps=0.6, min_samples=15, silhouette score=0.5347076976537932\n",
      "eps=0.6, min_samples=16, silhouette score=0.5347076976537932\n",
      "eps=0.6, min_samples=17, silhouette score=0.5347076976537932\n",
      "eps=0.6, min_samples=18, silhouette score=0.5347076976537932\n",
      "eps=0.6, min_samples=19, silhouette score=0.5347076976537932\n",
      "eps=0.6, min_samples=20, silhouette score=0.5347076976537932\n",
      "eps=0.7000000000000001, min_samples=5, silhouette score=0.5351606918177734\n",
      "eps=0.7000000000000001, min_samples=6, silhouette score=0.5351606918177734\n",
      "eps=0.7000000000000001, min_samples=7, silhouette score=0.5351606918177734\n",
      "eps=0.7000000000000001, min_samples=8, silhouette score=0.5351606918177734\n",
      "eps=0.7000000000000001, min_samples=9, silhouette score=0.5357356413224729\n",
      "eps=0.7000000000000001, min_samples=10, silhouette score=0.5357356413224729\n",
      "eps=0.7000000000000001, min_samples=11, silhouette score=0.5357356413224729\n",
      "eps=0.7000000000000001, min_samples=12, silhouette score=0.5357356413224729\n",
      "eps=0.7000000000000001, min_samples=13, silhouette score=0.5357356413224729\n",
      "eps=0.7000000000000001, min_samples=14, silhouette score=0.5357356413224729\n",
      "eps=0.7000000000000001, min_samples=15, silhouette score=0.5357356413224729\n",
      "eps=0.7000000000000001, min_samples=16, silhouette score=0.5357356413224729\n",
      "eps=0.7000000000000001, min_samples=17, silhouette score=0.5357356413224729\n",
      "eps=0.7000000000000001, min_samples=18, silhouette score=0.5357356413224729\n",
      "eps=0.7000000000000001, min_samples=19, silhouette score=0.5357356413224729\n",
      "eps=0.7000000000000001, min_samples=20, silhouette score=0.5357356413224729\n",
      "eps=0.8, min_samples=5, silhouette score=0.535930510919477\n",
      "eps=0.8, min_samples=6, silhouette score=0.535930510919477\n",
      "eps=0.8, min_samples=7, silhouette score=0.535930510919477\n",
      "eps=0.8, min_samples=8, silhouette score=0.535930510919477\n",
      "eps=0.8, min_samples=9, silhouette score=0.535930510919477\n",
      "eps=0.8, min_samples=10, silhouette score=0.535930510919477\n",
      "eps=0.8, min_samples=11, silhouette score=0.535930510919477\n",
      "eps=0.8, min_samples=12, silhouette score=0.535930510919477\n",
      "eps=0.8, min_samples=13, silhouette score=0.535930510919477\n",
      "eps=0.8, min_samples=14, silhouette score=0.535930510919477\n",
      "eps=0.8, min_samples=15, silhouette score=0.535930510919477\n",
      "eps=0.8, min_samples=16, silhouette score=0.535930510919477\n",
      "eps=0.8, min_samples=17, silhouette score=0.5351606918177734\n",
      "eps=0.8, min_samples=18, silhouette score=0.5351606918177734\n",
      "eps=0.8, min_samples=19, silhouette score=0.5351606918177734\n"
     ]
    },
    {
     "name": "stdout",
     "output_type": "stream",
     "text": [
      "eps=0.8, min_samples=20, silhouette score=0.5351606918177734\n",
      "eps=0.9, min_samples=5, silhouette score=0.535930510919477\n",
      "eps=0.9, min_samples=6, silhouette score=0.535930510919477\n",
      "eps=0.9, min_samples=7, silhouette score=0.535930510919477\n",
      "eps=0.9, min_samples=8, silhouette score=0.535930510919477\n",
      "eps=0.9, min_samples=9, silhouette score=0.535930510919477\n",
      "eps=0.9, min_samples=10, silhouette score=0.535930510919477\n",
      "eps=0.9, min_samples=11, silhouette score=0.535930510919477\n",
      "eps=0.9, min_samples=12, silhouette score=0.535930510919477\n",
      "eps=0.9, min_samples=13, silhouette score=0.535930510919477\n",
      "eps=0.9, min_samples=14, silhouette score=0.535930510919477\n",
      "eps=0.9, min_samples=15, silhouette score=0.535930510919477\n",
      "eps=0.9, min_samples=16, silhouette score=0.535930510919477\n",
      "eps=0.9, min_samples=17, silhouette score=0.535930510919477\n",
      "eps=0.9, min_samples=18, silhouette score=0.535930510919477\n",
      "eps=0.9, min_samples=19, silhouette score=0.535930510919477\n",
      "eps=0.9, min_samples=20, silhouette score=0.535930510919477\n",
      "eps=1.0, min_samples=5, silhouette score=0.535930510919477\n",
      "eps=1.0, min_samples=6, silhouette score=0.535930510919477\n",
      "eps=1.0, min_samples=7, silhouette score=0.535930510919477\n",
      "eps=1.0, min_samples=8, silhouette score=0.535930510919477\n",
      "eps=1.0, min_samples=9, silhouette score=0.535930510919477\n",
      "eps=1.0, min_samples=10, silhouette score=0.535930510919477\n",
      "eps=1.0, min_samples=11, silhouette score=0.535930510919477\n",
      "eps=1.0, min_samples=12, silhouette score=0.535930510919477\n",
      "eps=1.0, min_samples=13, silhouette score=0.535930510919477\n",
      "eps=1.0, min_samples=14, silhouette score=0.535930510919477\n",
      "eps=1.0, min_samples=15, silhouette score=0.535930510919477\n",
      "eps=1.0, min_samples=16, silhouette score=0.535930510919477\n",
      "eps=1.0, min_samples=17, silhouette score=0.535930510919477\n",
      "eps=1.0, min_samples=18, silhouette score=0.535930510919477\n",
      "eps=1.0, min_samples=19, silhouette score=0.535930510919477\n",
      "eps=1.0, min_samples=20, silhouette score=0.535930510919477\n",
      "Only One Cluster\n",
      "Only One Cluster\n",
      "Only One Cluster\n",
      "Only One Cluster\n",
      "Only One Cluster\n",
      "Only One Cluster\n",
      "Only One Cluster\n",
      "Only One Cluster\n",
      "Only One Cluster\n",
      "Only One Cluster\n",
      "The best value for eps=0.8, min_samples=5. Best Silhouette Score=0.535930510919477\n"
     ]
    }
   ],
   "source": [
    "eps_vals = np.arange(0.1,2.1,0.1)\n",
    "min_samp_list = range(5,21)\n",
    "\n",
    "best_score = -1\n",
    "best_params = None\n",
    "only_one_label = False\n",
    "\n",
    "for eps in eps_vals:\n",
    "    for min_samp in min_samp_list:\n",
    "        dbscan = DBSCAN(eps=eps, min_samples=min_samp)\n",
    "        labels = dbscan.fit_predict(scaled_data)\n",
    "        \n",
    "        if len(set(labels)) < 2:\n",
    "            print('Only One Cluster')\n",
    "            break\n",
    "\n",
    "        \n",
    "        elif len(set(labels)) == 2:\n",
    "            for label in set(labels):\n",
    "                if label==-1:\n",
    "                    print('Only One Cluster & Outliers')\n",
    "                    only_one_label = True\n",
    "            if only_one_label:\n",
    "                break\n",
    "        \n",
    "        score = silhouette_score(X=scaled_data, labels=labels)\n",
    "        print(f'eps={eps}, min_samples={min_samp}, silhouette score={score}')\n",
    "        if score>best_score:\n",
    "            best_score = score\n",
    "            best_params = [eps,min_samp]\n",
    "print(f'The best value for eps={best_params[0]}, min_samples={best_params[1]}. Best Silhouette Score={best_score}')\n",
    "                "
   ]
  },
  {
   "cell_type": "markdown",
   "id": "3dd5c4bd",
   "metadata": {},
   "source": [
    "## We need to have high silhouette scores but also should get as many outliers detected as possible\n",
    "## All high silhouette scores are obtained by 2 clusters. So, it is clear that we will be having 2 clusters\n",
    "## Now we will trade few decimal points of silhouette scores in return of as many outliers as possible\n",
    "## eps=0.3, min_samples=20 gives the highest number of outliers(135) along with maintaining a high silhouette score of 0.512254"
   ]
  },
  {
   "cell_type": "markdown",
   "id": "f4dffed0",
   "metadata": {},
   "source": [
    "## A good way of finding the optimal value of 'eps' is the k-nearest distance plot\n",
    "## The values at the elbow are most likely to be a good choose for the 'eps'"
   ]
  },
  {
   "cell_type": "code",
   "execution_count": 26,
   "id": "9206b664",
   "metadata": {},
   "outputs": [
    {
     "data": {
      "application/javascript": [
       "\n",
       "        if (window._pyforest_update_imports_cell) { window._pyforest_update_imports_cell('import numpy as np\\nimport matplotlib.pyplot as plt\\nimport pandas as pd'); }\n",
       "    "
      ],
      "text/plain": [
       "<IPython.core.display.Javascript object>"
      ]
     },
     "metadata": {},
     "output_type": "display_data"
    },
    {
     "data": {
      "application/javascript": [
       "\n",
       "        if (window._pyforest_update_imports_cell) { window._pyforest_update_imports_cell('import numpy as np\\nimport matplotlib.pyplot as plt\\nimport pandas as pd'); }\n",
       "    "
      ],
      "text/plain": [
       "<IPython.core.display.Javascript object>"
      ]
     },
     "metadata": {},
     "output_type": "display_data"
    },
    {
     "data": {
      "application/javascript": [
       "\n",
       "        if (window._pyforest_update_imports_cell) { window._pyforest_update_imports_cell('import numpy as np\\nimport matplotlib.pyplot as plt\\nimport pandas as pd'); }\n",
       "    "
      ],
      "text/plain": [
       "<IPython.core.display.Javascript object>"
      ]
     },
     "metadata": {},
     "output_type": "display_data"
    },
    {
     "data": {
      "application/javascript": [
       "\n",
       "        if (window._pyforest_update_imports_cell) { window._pyforest_update_imports_cell('import numpy as np\\nimport matplotlib.pyplot as plt\\nimport pandas as pd'); }\n",
       "    "
      ],
      "text/plain": [
       "<IPython.core.display.Javascript object>"
      ]
     },
     "metadata": {},
     "output_type": "display_data"
    },
    {
     "data": {
      "application/javascript": [
       "\n",
       "        if (window._pyforest_update_imports_cell) { window._pyforest_update_imports_cell('import numpy as np\\nimport matplotlib.pyplot as plt\\nimport pandas as pd'); }\n",
       "    "
      ],
      "text/plain": [
       "<IPython.core.display.Javascript object>"
      ]
     },
     "metadata": {},
     "output_type": "display_data"
    },
    {
     "data": {
      "application/javascript": [
       "\n",
       "        if (window._pyforest_update_imports_cell) { window._pyforest_update_imports_cell('import numpy as np\\nimport matplotlib.pyplot as plt\\nimport pandas as pd'); }\n",
       "    "
      ],
      "text/plain": [
       "<IPython.core.display.Javascript object>"
      ]
     },
     "metadata": {},
     "output_type": "display_data"
    },
    {
     "data": {
      "application/javascript": [
       "\n",
       "        if (window._pyforest_update_imports_cell) { window._pyforest_update_imports_cell('import numpy as np\\nimport matplotlib.pyplot as plt\\nimport pandas as pd'); }\n",
       "    "
      ],
      "text/plain": [
       "<IPython.core.display.Javascript object>"
      ]
     },
     "metadata": {},
     "output_type": "display_data"
    },
    {
     "data": {
      "image/png": "[encoded data removed]",
      "text/plain": [
       "<Figure size 640x480 with 1 Axes>"
      ]
     },
     "metadata": {},
     "output_type": "display_data"
    }
   ],
   "source": [
    "from sklearn.neighbors import NearestNeighbors\n",
    "\n",
    "# Sample data (replace this with your actual data)\n",
    "X = scaled_data\n",
    "\n",
    "# Number of neighbors (k) to consider\n",
    "k = 4\n",
    "\n",
    "# Compute the k-nearest neighbors\n",
    "nbrs = NearestNeighbors(n_neighbors=k).fit(X)\n",
    "distances, indices = nbrs.kneighbors(X)\n",
    "\n",
    "# Sort the distances to the k-th nearest neighbor\n",
    "k_distances = np.sort(distances[:, k-1])\n",
    "\n",
    "# Plot the k-distance graph\n",
    "plt.plot(k_distances)\n",
    "plt.xlabel('Data Points sorted by distance to {}-th nearest neighbor'.format(k))\n",
    "plt.ylabel('{}-th Nearest Neighbor Distance'.format(k))\n",
    "plt.title('K-Distance Graph for DBSCAN')\n",
    "plt.grid(True)\n",
    "plt.show()"
   ]
  },
  {
   "cell_type": "markdown",
   "id": "7f033c6d",
   "metadata": {},
   "source": [
    "## We can see that the k-nearest distance plot also validates our choice of eps=0.3 as it falls on the elbow of graph"
   ]
  },
  {
   "cell_type": "code",
   "execution_count": 27,
   "id": "8cdebb67",
   "metadata": {},
   "outputs": [
    {
     "data": {
      "application/javascript": [
       "\n",
       "        if (window._pyforest_update_imports_cell) { window._pyforest_update_imports_cell('import numpy as np\\nimport matplotlib.pyplot as plt\\nimport pandas as pd'); }\n",
       "    "
      ],
      "text/plain": [
       "<IPython.core.display.Javascript object>"
      ]
     },
     "metadata": {},
     "output_type": "display_data"
    },
    {
     "data": {
      "text/plain": [
       " 0    2466\n",
       " 1    1398\n",
       "-1     135\n",
       "Name: count, dtype: int64"
      ]
     },
     "execution_count": 27,
     "metadata": {},
     "output_type": "execute_result"
    }
   ],
   "source": [
    "dbscan = DBSCAN(eps=0.3, min_samples=20)\n",
    "db_pred_pt3_20 = dbscan.fit_predict(scaled_data)\n",
    "pd.Series(db_pred_pt3_20).value_counts()"
   ]
  },
  {
   "cell_type": "code",
   "execution_count": 28,
   "id": "181c8710",
   "metadata": {},
   "outputs": [
    {
     "data": {
      "application/javascript": [
       "\n",
       "        if (window._pyforest_update_imports_cell) { window._pyforest_update_imports_cell('import numpy as np\\nimport matplotlib.pyplot as plt\\nimport pandas as pd'); }\n",
       "    "
      ],
      "text/plain": [
       "<IPython.core.display.Javascript object>"
      ]
     },
     "metadata": {},
     "output_type": "display_data"
    },
    {
     "data": {
      "text/plain": [
       "<matplotlib.collections.PathCollection at 0x20101243790>"
      ]
     },
     "execution_count": 28,
     "metadata": {},
     "output_type": "execute_result"
    },
    {
     "data": {
      "image/png": "[encoded data removed]",
      "text/plain": [
       "<Figure size 640x480 with 1 Axes>"
      ]
     },
     "metadata": {},
     "output_type": "display_data"
    }
   ],
   "source": [
    "plt.scatter(x=two_dim_data[:,0], y=two_dim_data[:,1], c=db_pred_pt3_20)"
   ]
  },
  {
   "cell_type": "code",
   "execution_count": 29,
   "id": "52f193d9",
   "metadata": {},
   "outputs": [],
   "source": [
    "#Adding the clusters of DBSCAN to the original column\n",
    "frefly['db_clusters_2'] = db_pred_pt3_20"
   ]
  },
  {
   "cell_type": "code",
   "execution_count": 30,
   "id": "aa89b15a",
   "metadata": {},
   "outputs": [
    {
     "data": {
      "text/html": [
       "<div>\n",
       "<style scoped>\n",
       "    .dataframe tbody tr th:only-of-type {\n",
       "        vertical-align: middle;\n",
       "    }\n",
       "\n",
       "    .dataframe tbody tr th {\n",
       "        vertical-align: top;\n",
       "    }\n",
       "\n",
       "    .dataframe thead th {\n",
       "        text-align: right;\n",
       "    }\n",
       "</style>\n",
       "<table border=\"1\" class=\"dataframe\">\n",
       "  <thead>\n",
       "    <tr style=\"text-align: right;\">\n",
       "      <th></th>\n",
       "      <th>Balance</th>\n",
       "      <th>Qual_miles</th>\n",
       "      <th>cc1_miles</th>\n",
       "      <th>cc2_miles</th>\n",
       "      <th>cc3_miles</th>\n",
       "      <th>Bonus_miles</th>\n",
       "      <th>Bonus_trans</th>\n",
       "      <th>Flight_miles_12mo</th>\n",
       "      <th>Flight_trans_12</th>\n",
       "      <th>Days_since_enroll</th>\n",
       "      <th>Award?</th>\n",
       "      <th>k_clusters_4</th>\n",
       "      <th>k_clusters_2</th>\n",
       "      <th>agg_pred_4</th>\n",
       "      <th>db_clusters_2</th>\n",
       "    </tr>\n",
       "  </thead>\n",
       "  <tbody>\n",
       "    <tr>\n",
       "      <th>0</th>\n",
       "      <td>28143</td>\n",
       "      <td>0</td>\n",
       "      <td>1</td>\n",
       "      <td>1</td>\n",
       "      <td>1</td>\n",
       "      <td>174</td>\n",
       "      <td>1</td>\n",
       "      <td>0</td>\n",
       "      <td>0</td>\n",
       "      <td>7000</td>\n",
       "      <td>0</td>\n",
       "      <td>1</td>\n",
       "      <td>1</td>\n",
       "      <td>1</td>\n",
       "      <td>0</td>\n",
       "    </tr>\n",
       "    <tr>\n",
       "      <th>1</th>\n",
       "      <td>19244</td>\n",
       "      <td>0</td>\n",
       "      <td>1</td>\n",
       "      <td>1</td>\n",
       "      <td>1</td>\n",
       "      <td>215</td>\n",
       "      <td>2</td>\n",
       "      <td>0</td>\n",
       "      <td>0</td>\n",
       "      <td>6968</td>\n",
       "      <td>0</td>\n",
       "      <td>1</td>\n",
       "      <td>1</td>\n",
       "      <td>1</td>\n",
       "      <td>0</td>\n",
       "    </tr>\n",
       "    <tr>\n",
       "      <th>2</th>\n",
       "      <td>41354</td>\n",
       "      <td>0</td>\n",
       "      <td>1</td>\n",
       "      <td>1</td>\n",
       "      <td>1</td>\n",
       "      <td>4123</td>\n",
       "      <td>4</td>\n",
       "      <td>0</td>\n",
       "      <td>0</td>\n",
       "      <td>7034</td>\n",
       "      <td>0</td>\n",
       "      <td>1</td>\n",
       "      <td>1</td>\n",
       "      <td>1</td>\n",
       "      <td>0</td>\n",
       "    </tr>\n",
       "    <tr>\n",
       "      <th>3</th>\n",
       "      <td>14776</td>\n",
       "      <td>0</td>\n",
       "      <td>1</td>\n",
       "      <td>1</td>\n",
       "      <td>1</td>\n",
       "      <td>500</td>\n",
       "      <td>1</td>\n",
       "      <td>0</td>\n",
       "      <td>0</td>\n",
       "      <td>6952</td>\n",
       "      <td>0</td>\n",
       "      <td>1</td>\n",
       "      <td>1</td>\n",
       "      <td>1</td>\n",
       "      <td>0</td>\n",
       "    </tr>\n",
       "    <tr>\n",
       "      <th>4</th>\n",
       "      <td>97752</td>\n",
       "      <td>0</td>\n",
       "      <td>4</td>\n",
       "      <td>1</td>\n",
       "      <td>1</td>\n",
       "      <td>43300</td>\n",
       "      <td>26</td>\n",
       "      <td>2077</td>\n",
       "      <td>4</td>\n",
       "      <td>6935</td>\n",
       "      <td>1</td>\n",
       "      <td>2</td>\n",
       "      <td>0</td>\n",
       "      <td>0</td>\n",
       "      <td>1</td>\n",
       "    </tr>\n",
       "    <tr>\n",
       "      <th>...</th>\n",
       "      <td>...</td>\n",
       "      <td>...</td>\n",
       "      <td>...</td>\n",
       "      <td>...</td>\n",
       "      <td>...</td>\n",
       "      <td>...</td>\n",
       "      <td>...</td>\n",
       "      <td>...</td>\n",
       "      <td>...</td>\n",
       "      <td>...</td>\n",
       "      <td>...</td>\n",
       "      <td>...</td>\n",
       "      <td>...</td>\n",
       "      <td>...</td>\n",
       "      <td>...</td>\n",
       "    </tr>\n",
       "    <tr>\n",
       "      <th>3994</th>\n",
       "      <td>18476</td>\n",
       "      <td>0</td>\n",
       "      <td>1</td>\n",
       "      <td>1</td>\n",
       "      <td>1</td>\n",
       "      <td>8525</td>\n",
       "      <td>4</td>\n",
       "      <td>200</td>\n",
       "      <td>1</td>\n",
       "      <td>1403</td>\n",
       "      <td>1</td>\n",
       "      <td>0</td>\n",
       "      <td>0</td>\n",
       "      <td>0</td>\n",
       "      <td>1</td>\n",
       "    </tr>\n",
       "    <tr>\n",
       "      <th>3995</th>\n",
       "      <td>64385</td>\n",
       "      <td>0</td>\n",
       "      <td>1</td>\n",
       "      <td>1</td>\n",
       "      <td>1</td>\n",
       "      <td>981</td>\n",
       "      <td>5</td>\n",
       "      <td>0</td>\n",
       "      <td>0</td>\n",
       "      <td>1395</td>\n",
       "      <td>1</td>\n",
       "      <td>0</td>\n",
       "      <td>0</td>\n",
       "      <td>0</td>\n",
       "      <td>1</td>\n",
       "    </tr>\n",
       "    <tr>\n",
       "      <th>3996</th>\n",
       "      <td>73597</td>\n",
       "      <td>0</td>\n",
       "      <td>3</td>\n",
       "      <td>1</td>\n",
       "      <td>1</td>\n",
       "      <td>25447</td>\n",
       "      <td>8</td>\n",
       "      <td>0</td>\n",
       "      <td>0</td>\n",
       "      <td>1402</td>\n",
       "      <td>1</td>\n",
       "      <td>2</td>\n",
       "      <td>0</td>\n",
       "      <td>0</td>\n",
       "      <td>1</td>\n",
       "    </tr>\n",
       "    <tr>\n",
       "      <th>3997</th>\n",
       "      <td>54899</td>\n",
       "      <td>0</td>\n",
       "      <td>1</td>\n",
       "      <td>1</td>\n",
       "      <td>1</td>\n",
       "      <td>500</td>\n",
       "      <td>1</td>\n",
       "      <td>500</td>\n",
       "      <td>1</td>\n",
       "      <td>1401</td>\n",
       "      <td>0</td>\n",
       "      <td>1</td>\n",
       "      <td>1</td>\n",
       "      <td>1</td>\n",
       "      <td>0</td>\n",
       "    </tr>\n",
       "    <tr>\n",
       "      <th>3998</th>\n",
       "      <td>3016</td>\n",
       "      <td>0</td>\n",
       "      <td>1</td>\n",
       "      <td>1</td>\n",
       "      <td>1</td>\n",
       "      <td>0</td>\n",
       "      <td>0</td>\n",
       "      <td>0</td>\n",
       "      <td>0</td>\n",
       "      <td>1398</td>\n",
       "      <td>0</td>\n",
       "      <td>1</td>\n",
       "      <td>1</td>\n",
       "      <td>1</td>\n",
       "      <td>0</td>\n",
       "    </tr>\n",
       "  </tbody>\n",
       "</table>\n",
       "<p>3999 rows × 15 columns</p>\n",
       "</div>"
      ],
      "text/plain": [
       "      Balance  Qual_miles  cc1_miles  cc2_miles  cc3_miles  Bonus_miles  \\\n",
       "0       28143           0          1          1          1          174   \n",
       "1       19244           0          1          1          1          215   \n",
       "2       41354           0          1          1          1         4123   \n",
       "3       14776           0          1          1          1          500   \n",
       "4       97752           0          4          1          1        43300   \n",
       "...       ...         ...        ...        ...        ...          ...   \n",
       "3994    18476           0          1          1          1         8525   \n",
       "3995    64385           0          1          1          1          981   \n",
       "3996    73597           0          3          1          1        25447   \n",
       "3997    54899           0          1          1          1          500   \n",
       "3998     3016           0          1          1          1            0   \n",
       "\n",
       "      Bonus_trans  Flight_miles_12mo  Flight_trans_12  Days_since_enroll  \\\n",
       "0               1                  0                0               7000   \n",
       "1               2                  0                0               6968   \n",
       "2               4                  0                0               7034   \n",
       "3               1                  0                0               6952   \n",
       "4              26               2077                4               6935   \n",
       "...           ...                ...              ...                ...   \n",
       "3994            4                200                1               1403   \n",
       "3995            5                  0                0               1395   \n",
       "3996            8                  0                0               1402   \n",
       "3997            1                500                1               1401   \n",
       "3998            0                  0                0               1398   \n",
       "\n",
       "      Award?  k_clusters_4  k_clusters_2  agg_pred_4  db_clusters_2  \n",
       "0          0             1             1           1              0  \n",
       "1          0             1             1           1              0  \n",
       "2          0             1             1           1              0  \n",
       "3          0             1             1           1              0  \n",
       "4          1             2             0           0              1  \n",
       "...      ...           ...           ...         ...            ...  \n",
       "3994       1             0             0           0              1  \n",
       "3995       1             0             0           0              1  \n",
       "3996       1             2             0           0              1  \n",
       "3997       0             1             1           1              0  \n",
       "3998       0             1             1           1              0  \n",
       "\n",
       "[3999 rows x 15 columns]"
      ]
     },
     "execution_count": 30,
     "metadata": {},
     "output_type": "execute_result"
    }
   ],
   "source": [
    "frefly"
   ]
  },
  {
   "cell_type": "code",
   "execution_count": null,
   "id": "1768c992",
   "metadata": {},
   "outputs": [],
   "source": []
  },
  {
   "cell_type": "code",
   "execution_count": null,
   "id": "3600c1f4",
   "metadata": {},
   "outputs": [],
   "source": []
  },
  {
   "cell_type": "code",
   "execution_count": null,
   "id": "85033340",
   "metadata": {},
   "outputs": [],
   "source": []
  },
  {
   "cell_type": "code",
   "execution_count": 31,
   "id": "bd939172",
   "metadata": {},
   "outputs": [
    {
     "data": {
      "text/html": [
       "<div>\n",
       "<style scoped>\n",
       "    .dataframe tbody tr th:only-of-type {\n",
       "        vertical-align: middle;\n",
       "    }\n",
       "\n",
       "    .dataframe tbody tr th {\n",
       "        vertical-align: top;\n",
       "    }\n",
       "\n",
       "    .dataframe thead th {\n",
       "        text-align: right;\n",
       "    }\n",
       "</style>\n",
       "<table border=\"1\" class=\"dataframe\">\n",
       "  <thead>\n",
       "    <tr style=\"text-align: right;\">\n",
       "      <th>k_clusters_4</th>\n",
       "      <th>0</th>\n",
       "      <th>1</th>\n",
       "      <th>2</th>\n",
       "      <th>3</th>\n",
       "    </tr>\n",
       "  </thead>\n",
       "  <tbody>\n",
       "    <tr>\n",
       "      <th>Balance</th>\n",
       "      <td>39601.0</td>\n",
       "      <td>25685.0</td>\n",
       "      <td>66966.5</td>\n",
       "      <td>94938.0</td>\n",
       "    </tr>\n",
       "    <tr>\n",
       "      <th>Qual_miles</th>\n",
       "      <td>0.0</td>\n",
       "      <td>0.0</td>\n",
       "      <td>0.0</td>\n",
       "      <td>0.0</td>\n",
       "    </tr>\n",
       "    <tr>\n",
       "      <th>cc1_miles</th>\n",
       "      <td>1.0</td>\n",
       "      <td>1.0</td>\n",
       "      <td>4.0</td>\n",
       "      <td>3.0</td>\n",
       "    </tr>\n",
       "    <tr>\n",
       "      <th>cc2_miles</th>\n",
       "      <td>1.0</td>\n",
       "      <td>1.0</td>\n",
       "      <td>1.0</td>\n",
       "      <td>1.0</td>\n",
       "    </tr>\n",
       "    <tr>\n",
       "      <th>cc3_miles</th>\n",
       "      <td>1.0</td>\n",
       "      <td>1.0</td>\n",
       "      <td>1.0</td>\n",
       "      <td>1.0</td>\n",
       "    </tr>\n",
       "    <tr>\n",
       "      <th>Bonus_miles</th>\n",
       "      <td>6027.0</td>\n",
       "      <td>1500.0</td>\n",
       "      <td>38106.0</td>\n",
       "      <td>26666.0</td>\n",
       "    </tr>\n",
       "    <tr>\n",
       "      <th>Bonus_trans</th>\n",
       "      <td>8.0</td>\n",
       "      <td>4.0</td>\n",
       "      <td>18.0</td>\n",
       "      <td>15.0</td>\n",
       "    </tr>\n",
       "    <tr>\n",
       "      <th>Flight_miles_12mo</th>\n",
       "      <td>100.0</td>\n",
       "      <td>0.0</td>\n",
       "      <td>0.0</td>\n",
       "      <td>0.0</td>\n",
       "    </tr>\n",
       "    <tr>\n",
       "      <th>Flight_trans_12</th>\n",
       "      <td>1.0</td>\n",
       "      <td>0.0</td>\n",
       "      <td>0.0</td>\n",
       "      <td>0.0</td>\n",
       "    </tr>\n",
       "    <tr>\n",
       "      <th>Days_since_enroll</th>\n",
       "      <td>4278.0</td>\n",
       "      <td>3452.0</td>\n",
       "      <td>4917.5</td>\n",
       "      <td>4423.0</td>\n",
       "    </tr>\n",
       "    <tr>\n",
       "      <th>Award?</th>\n",
       "      <td>1.0</td>\n",
       "      <td>0.0</td>\n",
       "      <td>1.0</td>\n",
       "      <td>0.0</td>\n",
       "    </tr>\n",
       "  </tbody>\n",
       "</table>\n",
       "</div>"
      ],
      "text/plain": [
       "k_clusters_4             0        1        2        3\n",
       "Balance            39601.0  25685.0  66966.5  94938.0\n",
       "Qual_miles             0.0      0.0      0.0      0.0\n",
       "cc1_miles              1.0      1.0      4.0      3.0\n",
       "cc2_miles              1.0      1.0      1.0      1.0\n",
       "cc3_miles              1.0      1.0      1.0      1.0\n",
       "Bonus_miles         6027.0   1500.0  38106.0  26666.0\n",
       "Bonus_trans            8.0      4.0     18.0     15.0\n",
       "Flight_miles_12mo    100.0      0.0      0.0      0.0\n",
       "Flight_trans_12        1.0      0.0      0.0      0.0\n",
       "Days_since_enroll   4278.0   3452.0   4917.5   4423.0\n",
       "Award?                 1.0      0.0      1.0      0.0"
      ]
     },
     "execution_count": 31,
     "metadata": {},
     "output_type": "execute_result"
    }
   ],
   "source": [
    "#Cluster medians of different features\n",
    "cluster_medians = frefly.groupby('k_clusters_4')[['Balance', 'Qual_miles','cc1_miles','cc2_miles','cc3_miles','Bonus_miles','Bonus_trans','Flight_miles_12mo','Flight_trans_12', 'Days_since_enroll', 'Award?']].median()\n",
    "cluster_medians.T"
   ]
  },
  {
   "cell_type": "code",
   "execution_count": 32,
   "id": "160e3b7a",
   "metadata": {},
   "outputs": [
    {
     "data": {
      "text/html": [
       "<div>\n",
       "<style scoped>\n",
       "    .dataframe tbody tr th:only-of-type {\n",
       "        vertical-align: middle;\n",
       "    }\n",
       "\n",
       "    .dataframe tbody tr th {\n",
       "        vertical-align: top;\n",
       "    }\n",
       "\n",
       "    .dataframe thead th {\n",
       "        text-align: right;\n",
       "    }\n",
       "</style>\n",
       "<table border=\"1\" class=\"dataframe\">\n",
       "  <thead>\n",
       "    <tr style=\"text-align: right;\">\n",
       "      <th>k_clusters_4</th>\n",
       "      <th>0</th>\n",
       "      <th>1</th>\n",
       "      <th>2</th>\n",
       "      <th>3</th>\n",
       "    </tr>\n",
       "  </thead>\n",
       "  <tbody>\n",
       "    <tr>\n",
       "      <th>Balance</th>\n",
       "      <td>83529.153046</td>\n",
       "      <td>40747.617290</td>\n",
       "      <td>108317.387376</td>\n",
       "      <td>118032.061192</td>\n",
       "    </tr>\n",
       "    <tr>\n",
       "      <th>Qual_miles</th>\n",
       "      <td>290.453195</td>\n",
       "      <td>92.345809</td>\n",
       "      <td>198.336634</td>\n",
       "      <td>73.112721</td>\n",
       "    </tr>\n",
       "    <tr>\n",
       "      <th>cc1_miles</th>\n",
       "      <td>1.156018</td>\n",
       "      <td>1.092778</td>\n",
       "      <td>3.915842</td>\n",
       "      <td>3.576490</td>\n",
       "    </tr>\n",
       "    <tr>\n",
       "      <th>cc2_miles</th>\n",
       "      <td>1.032689</td>\n",
       "      <td>1.017923</td>\n",
       "      <td>1.001238</td>\n",
       "      <td>1.001610</td>\n",
       "    </tr>\n",
       "    <tr>\n",
       "      <th>cc3_miles</th>\n",
       "      <td>1.008915</td>\n",
       "      <td>1.004217</td>\n",
       "      <td>1.025990</td>\n",
       "      <td>1.022544</td>\n",
       "    </tr>\n",
       "    <tr>\n",
       "      <th>Bonus_miles</th>\n",
       "      <td>8850.395245</td>\n",
       "      <td>3335.152873</td>\n",
       "      <td>45609.657178</td>\n",
       "      <td>31282.666667</td>\n",
       "    </tr>\n",
       "    <tr>\n",
       "      <th>Bonus_trans</th>\n",
       "      <td>10.476969</td>\n",
       "      <td>6.488666</td>\n",
       "      <td>20.201733</td>\n",
       "      <td>17.251208</td>\n",
       "    </tr>\n",
       "    <tr>\n",
       "      <th>Flight_miles_12mo</th>\n",
       "      <td>1030.112927</td>\n",
       "      <td>226.599895</td>\n",
       "      <td>713.728960</td>\n",
       "      <td>225.352657</td>\n",
       "    </tr>\n",
       "    <tr>\n",
       "      <th>Flight_trans_12</th>\n",
       "      <td>3.148588</td>\n",
       "      <td>0.658935</td>\n",
       "      <td>2.142327</td>\n",
       "      <td>0.632850</td>\n",
       "    </tr>\n",
       "    <tr>\n",
       "      <th>Days_since_enroll</th>\n",
       "      <td>4338.867756</td>\n",
       "      <td>3619.111755</td>\n",
       "      <td>4863.439356</td>\n",
       "      <td>4436.307568</td>\n",
       "    </tr>\n",
       "    <tr>\n",
       "      <th>Award?</th>\n",
       "      <td>1.000000</td>\n",
       "      <td>0.000000</td>\n",
       "      <td>1.000000</td>\n",
       "      <td>0.000000</td>\n",
       "    </tr>\n",
       "  </tbody>\n",
       "</table>\n",
       "</div>"
      ],
      "text/plain": [
       "k_clusters_4                  0             1              2              3\n",
       "Balance            83529.153046  40747.617290  108317.387376  118032.061192\n",
       "Qual_miles           290.453195     92.345809     198.336634      73.112721\n",
       "cc1_miles              1.156018      1.092778       3.915842       3.576490\n",
       "cc2_miles              1.032689      1.017923       1.001238       1.001610\n",
       "cc3_miles              1.008915      1.004217       1.025990       1.022544\n",
       "Bonus_miles         8850.395245   3335.152873   45609.657178   31282.666667\n",
       "Bonus_trans           10.476969      6.488666      20.201733      17.251208\n",
       "Flight_miles_12mo   1030.112927    226.599895     713.728960     225.352657\n",
       "Flight_trans_12        3.148588      0.658935       2.142327       0.632850\n",
       "Days_since_enroll   4338.867756   3619.111755    4863.439356    4436.307568\n",
       "Award?                 1.000000      0.000000       1.000000       0.000000"
      ]
     },
     "execution_count": 32,
     "metadata": {},
     "output_type": "execute_result"
    }
   ],
   "source": [
    "#Cluster means of different features\n",
    "cluster_means = frefly.groupby('k_clusters_4')[['Balance', 'Qual_miles','cc1_miles','cc2_miles','cc3_miles','Bonus_miles','Bonus_trans','Flight_miles_12mo','Flight_trans_12', 'Days_since_enroll', 'Award?' ]].mean()\n",
    "cluster_means.T"
   ]
  },
  {
   "cell_type": "code",
   "execution_count": 33,
   "id": "7e2eae69",
   "metadata": {},
   "outputs": [
    {
     "data": {
      "application/javascript": [
       "\n",
       "        if (window._pyforest_update_imports_cell) { window._pyforest_update_imports_cell('import numpy as np\\nimport matplotlib.pyplot as plt\\nimport pandas as pd'); }\n",
       "    "
      ],
      "text/plain": [
       "<IPython.core.display.Javascript object>"
      ]
     },
     "metadata": {},
     "output_type": "display_data"
    },
    {
     "data": {
      "image/png": "[encoded data removed]",
      "text/plain": [
       "<Figure size 1000x500 with 2 Axes>"
      ]
     },
     "metadata": {},
     "output_type": "display_data"
    }
   ],
   "source": [
    "fig = plt.figure(figsize=(10,5))\n",
    "ax = fig.add_subplot(121)\n",
    "ax.bar(height = cluster_means['Balance'], x=cluster_medians.index)\n",
    "ax.set_title('Cluster Mean Balance');\n",
    "\n",
    "ax = fig.add_subplot(122)\n",
    "ax.bar(height = cluster_means['Qual_miles'], x=cluster_means.index)\n",
    "ax.set_title('Cluster Mean Qual Miles');"
   ]
  },
  {
   "cell_type": "markdown",
   "id": "5a2d53d5",
   "metadata": {},
   "source": [
    "# Cluster 0 (Medium Balance, High Qual Miles) - \n",
    "## These customers are highly engaged as they accumulate a very good amount of balance as well as redeemed the balance into Quality Mile Flights"
   ]
  },
  {
   "cell_type": "code",
   "execution_count": null,
   "id": "94b0322d",
   "metadata": {},
   "outputs": [],
   "source": []
  },
  {
   "cell_type": "code",
   "execution_count": null,
   "id": "648b9558",
   "metadata": {},
   "outputs": [],
   "source": []
  },
  {
   "cell_type": "markdown",
   "id": "d16841ba",
   "metadata": {},
   "source": [
    "# Cluster 1 (Low Balance, Low Qual Miles) - "
   ]
  },
  {
   "cell_type": "code",
   "execution_count": 34,
   "id": "5e588916",
   "metadata": {},
   "outputs": [
    {
     "data": {
      "text/plain": [
       "k_clusters_4\n",
       "0    4338.867756\n",
       "1    3619.111755\n",
       "2    4863.439356\n",
       "3    4436.307568\n",
       "Name: Days_since_enroll, dtype: float64"
      ]
     },
     "execution_count": 34,
     "metadata": {},
     "output_type": "execute_result"
    }
   ],
   "source": [
    "# Checking the average days since enrollment for clusters\n",
    "cluster_means['Days_since_enroll']"
   ]
  },
  {
   "cell_type": "markdown",
   "id": "cee842ca",
   "metadata": {},
   "source": [
    "## Cluster 1 customers are newer ones, yet they are potentially high value customers as their Qual Miles are higher than other clusters in proportion to the Balance"
   ]
  },
  {
   "cell_type": "code",
   "execution_count": null,
   "id": "697d1f40",
   "metadata": {},
   "outputs": [],
   "source": []
  },
  {
   "cell_type": "code",
   "execution_count": null,
   "id": "83030fbf",
   "metadata": {},
   "outputs": [],
   "source": []
  },
  {
   "cell_type": "markdown",
   "id": "7c9bcc05",
   "metadata": {},
   "source": [
    "# Cluster 2 (High Balance, Medium Qual miles)"
   ]
  },
  {
   "cell_type": "code",
   "execution_count": 35,
   "id": "9edea440",
   "metadata": {},
   "outputs": [
    {
     "data": {
      "text/plain": [
       "k_clusters_4\n",
       "0    4338.867756\n",
       "1    3619.111755\n",
       "2    4863.439356\n",
       "3    4436.307568\n",
       "Name: Days_since_enroll, dtype: float64"
      ]
     },
     "execution_count": 35,
     "metadata": {},
     "output_type": "execute_result"
    }
   ],
   "source": [
    "# Checking the average days since enrollment for clusters\n",
    "cluster_means['Days_since_enroll']"
   ]
  },
  {
   "cell_type": "markdown",
   "id": "3151c7fb",
   "metadata": {},
   "source": [
    "## Cluster 2 customers are the long members which have accumulated high Balance and Have a good amount of qual miles.\n",
    "## These customers can be give some incentives to try the premium classes in order to intoduce them to the best services"
   ]
  },
  {
   "cell_type": "code",
   "execution_count": null,
   "id": "3d8d7d0c",
   "metadata": {},
   "outputs": [],
   "source": []
  },
  {
   "cell_type": "code",
   "execution_count": null,
   "id": "4eb297bf",
   "metadata": {},
   "outputs": [],
   "source": []
  },
  {
   "cell_type": "markdown",
   "id": "bf5e8e8d",
   "metadata": {},
   "source": [
    "# Cluster 3 (Very High Balance, Low Qual Miles)\n",
    "## These customers are ones who travel mainly in lower class flights. They are members for very long and accumulated a lot of Balance miles. \n",
    "## They can be given some incentives for upgrading their flight class"
   ]
  },
  {
   "cell_type": "code",
   "execution_count": null,
   "id": "ad60d2e9",
   "metadata": {},
   "outputs": [],
   "source": []
  },
  {
   "cell_type": "code",
   "execution_count": null,
   "id": "e7d28721",
   "metadata": {},
   "outputs": [],
   "source": []
  },
  {
   "cell_type": "code",
   "execution_count": 36,
   "id": "a49e5992",
   "metadata": {},
   "outputs": [
    {
     "data": {
      "text/html": [
       "<div>\n",
       "<style scoped>\n",
       "    .dataframe tbody tr th:only-of-type {\n",
       "        vertical-align: middle;\n",
       "    }\n",
       "\n",
       "    .dataframe tbody tr th {\n",
       "        vertical-align: top;\n",
       "    }\n",
       "\n",
       "    .dataframe thead th {\n",
       "        text-align: right;\n",
       "    }\n",
       "</style>\n",
       "<table border=\"1\" class=\"dataframe\">\n",
       "  <thead>\n",
       "    <tr style=\"text-align: right;\">\n",
       "      <th></th>\n",
       "      <th>Qual_miles</th>\n",
       "      <th>Flight_miles_12mo</th>\n",
       "      <th>Flight_trans_12</th>\n",
       "    </tr>\n",
       "    <tr>\n",
       "      <th>k_clusters_4</th>\n",
       "      <th></th>\n",
       "      <th></th>\n",
       "      <th></th>\n",
       "    </tr>\n",
       "  </thead>\n",
       "  <tbody>\n",
       "    <tr>\n",
       "      <th>0</th>\n",
       "      <td>2443.4375</td>\n",
       "      <td>1997.884726</td>\n",
       "      <td>6.106628</td>\n",
       "    </tr>\n",
       "    <tr>\n",
       "      <th>1</th>\n",
       "      <td>2825.483871</td>\n",
       "      <td>1102.205128</td>\n",
       "      <td>3.205128</td>\n",
       "    </tr>\n",
       "    <tr>\n",
       "      <th>2</th>\n",
       "      <td>2428.121212</td>\n",
       "      <td>1501.804688</td>\n",
       "      <td>4.507812</td>\n",
       "    </tr>\n",
       "    <tr>\n",
       "      <th>3</th>\n",
       "      <td>2522.388889</td>\n",
       "      <td>902.864516</td>\n",
       "      <td>2.535484</td>\n",
       "    </tr>\n",
       "  </tbody>\n",
       "</table>\n",
       "</div>"
      ],
      "text/plain": [
       "               Qual_miles Flight_miles_12mo Flight_trans_12\n",
       "k_clusters_4                                               \n",
       "0               2443.4375       1997.884726        6.106628\n",
       "1             2825.483871       1102.205128        3.205128\n",
       "2             2428.121212       1501.804688        4.507812\n",
       "3             2522.388889        902.864516        2.535484"
      ]
     },
     "execution_count": 36,
     "metadata": {},
     "output_type": "execute_result"
    }
   ],
   "source": [
    "#Cluster means of certain features by ignoring 0 values\n",
    "to_find_mean = frefly.groupby('k_clusters_4')[['Qual_miles','Flight_miles_12mo','Flight_trans_12' ]].apply(lambda x: x)\n",
    "\n",
    "to_find_mean = to_find_mean.replace(to_replace=0, value=None)\n",
    "\n",
    "means_wo_0 = to_find_mean.groupby(level='k_clusters_4')[['Qual_miles','Flight_miles_12mo','Flight_trans_12']].mean()\n",
    "means_wo_0"
   ]
  },
  {
   "cell_type": "code",
   "execution_count": 40,
   "id": "35c96090",
   "metadata": {},
   "outputs": [
    {
     "data": {
      "application/javascript": [
       "\n",
       "        if (window._pyforest_update_imports_cell) { window._pyforest_update_imports_cell('import numpy as np\\nimport matplotlib.pyplot as plt\\nimport pandas as pd'); }\n",
       "    "
      ],
      "text/plain": [
       "<IPython.core.display.Javascript object>"
      ]
     },
     "metadata": {},
     "output_type": "display_data"
    },
    {
     "data": {
      "image/png": "[encoded data removed]",
      "text/plain": [
       "<Figure size 1000x500 with 2 Axes>"
      ]
     },
     "metadata": {},
     "output_type": "display_data"
    }
   ],
   "source": [
    "fig = plt.figure(figsize=(10,5))\n",
    "ax = fig.add_subplot(121)\n",
    "ax.bar(height = means_wo_0['Qual_miles'], x=cluster_medians.index)\n",
    "ax.set_title('Cluster Mean Qual Miles ignoring Zeroes');\n",
    "\n",
    "\n",
    "ax = fig.add_subplot(122)\n",
    "ax.bar(height = cluster_means['Qual_miles'], x=cluster_medians.index)\n",
    "ax.set_title('Cluster Mean Qual Miles');"
   ]
  },
  {
   "cell_type": "markdown",
   "id": "c76f2147",
   "metadata": {},
   "source": [
    "## The above bar graph hints that there are a lot of customers in clusters 1,2,3 who have 0 qual miles "
   ]
  },
  {
   "cell_type": "code",
   "execution_count": 41,
   "id": "593b825f",
   "metadata": {},
   "outputs": [
    {
     "data": {
      "text/plain": [
       "3773"
      ]
     },
     "execution_count": 41,
     "metadata": {},
     "output_type": "execute_result"
    }
   ],
   "source": [
    "zero_qual_miles_rows = frefly.groupby('k_clusters_4')['Qual_miles'].apply(lambda x: x)==0\n",
    "zero_qual_miles_rows.sum()"
   ]
  },
  {
   "cell_type": "markdown",
   "id": "f54c94d6",
   "metadata": {},
   "source": [
    "# We can see that out of 3999 customers, 3773 have zero qual miles\n",
    "# This suggests that the average qual miles do not give the real understanding about the customers"
   ]
  }
 ],
 "metadata": {
  "kernelspec": {
   "display_name": "Python 3 (ipykernel)",
   "language": "python",
   "name": "python3"
  },
  "language_info": {
   "codemirror_mode": {
    "name": "ipython",
    "version": 3
   },
   "file_extension": ".py",
   "mimetype": "text/x-python",
   "name": "python",
   "nbconvert_exporter": "python",
   "pygments_lexer": "ipython3",
   "version": "3.11.5"
  }
 },
 "nbformat": 4,
 "nbformat_minor": 5
}
